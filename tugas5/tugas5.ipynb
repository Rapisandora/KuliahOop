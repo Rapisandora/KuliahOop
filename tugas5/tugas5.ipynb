{
 "cells": [
  {
   "cell_type": "code",
   "execution_count": 1,
   "id": "3b82316b",
   "metadata": {},
   "outputs": [
    {
     "name": "stdout",
     "output_type": "stream",
     "text": [
      "nama saya Rapi sandora, alamat saya di Aturan mumpo\n"
     ]
    }
   ],
   "source": [
    "nama=\"Rapi sandora\"\n",
    "alamat=\"Aturan mumpo\"\n",
    "\n",
    "print('nama saya %s, alamat saya di %s' % (nama,alamat))"
   ]
  },
  {
   "cell_type": "code",
   "execution_count": null,
   "id": "bdc4b6aa",
   "metadata": {},
   "outputs": [],
   "source": []
  }
 ],
 "metadata": {
  "kernelspec": {
   "display_name": "Python 3",
   "language": "python",
   "name": "python3"
  },
  "language_info": {
   "codemirror_mode": {
    "name": "ipython",
    "version": 3
   },
   "file_extension": ".py",
   "mimetype": "text/x-python",
   "name": "python",
   "nbconvert_exporter": "python",
   "pygments_lexer": "ipython3",
   "version": "3.7.0"
  }
 },
 "nbformat": 4,
 "nbformat_minor": 5
}
